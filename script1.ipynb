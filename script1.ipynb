{
    "metadata": {
        "kernelspec": {
            "name": "SQL",
            "display_name": "SQL",
            "language": "sql"
        },
        "language_info": {
            "name": "sql",
            "version": ""
        }
    },
    "nbformat_minor": 2,
    "nbformat": 4,
    "cells": [
        {
            "cell_type": "code",
            "source": [
                "USE DWH;\n",
                "GO\n",
                "CREATE PROCEDURE \"Transfer_Sales_SalesOrderHeader\"\n",
                "(\n",
                "@SourceDB VARCHAR(50)= \"ERP\",\n",
                "@SourceSchemaTable VARCHAR(50)= \"Sales.SalesOrderHeader\",\n",
                "@DestinationDB VARCHAR(50) = \"DWH\",\n",
                "@DestinationSchemaTable VARCHAR(50) = \"staging.Staging_SalesOrderHeader\"\n",
                ")AS\n",
                "BEGIN\n",
                "DECLARE @SQL NVARCHAR(MAX)\n",
                "    DECLARE @FullyQualifiedDestinationTable NVARCHAR(128) = @DestinationDB + '.' + @DestinationSchemaTable;\n",
                "BEGIN TRY\n",
                "    IF OBJECT_ID(@FullyQualifiedDestinationTable, 'U') IS NOT NULL\n",
                "    BEGIN\n",
                "        SET @SQL = 'DROP TABLE ' + @FullyQualifiedDestinationTable;\n",
                "        EXEC sp_executesql @SQL;\n",
                "    END\n",
                "SET @SQL = N'SELECT * INTO ' + @DestinationDB + '.' + @DestinationSchemaTable + ' FROM ' + @SourceDB + '.' + @SourceSchemaTable\n",
                "EXEC sp_executesql @SQL;\n",
                "END TRY\n",
                "    BEGIN CATCH\n",
                "        PRINT 'Ein Fehler ist aufgetreten: ' + ERROR_MESSAGE();\n",
                "        THROW;\n",
                "    END CATCH\n",
                "END;\n",
                "Go"
            ],
            "metadata": {
                "azdata_cell_guid": "bb30bd27-1d03-49c8-87a5-698c5a5e4e78",
                "language": "sql"
            },
            "outputs": [],
            "execution_count": null
        }
    ]
}