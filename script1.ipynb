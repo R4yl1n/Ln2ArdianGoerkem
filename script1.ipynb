{
    "metadata": {
        "kernelspec": {
            "name": "SQL",
            "display_name": "SQL",
            "language": "sql"
        },
        "language_info": {
            "name": "sql",
            "version": ""
        }
    },
    "nbformat_minor": 2,
    "nbformat": 4,
    "cells": [
        {
            "cell_type": "code",
            "source": [
                "\n",
                "USE ERP\n",
                "GO\n",
                "CREATE PROCEDURE usp_DropDatabase\n",
                "    @DatabaseName NVARCHAR(128)\n",
                "AS\n",
                "BEGIN\n",
                "    SET NOCOUNT ON;\n",
                "\n",
                "    DECLARE @KillCommand NVARCHAR(MAX);\n",
                "    DECLARE @Sql NVARCHAR(MAX);\n",
                "\n",
                "    -- Initialize the command to kill active connections\n",
                "    SET @KillCommand = '';\n",
                "\n",
                "    -- Build the kill command for each active connection, excluding the current session\n",
                "    SELECT @KillCommand = @KillCommand + 'KILL ' + CONVERT(NVARCHAR(10), session_id) + ';'\n",
                "    FROM sys.dm_exec_sessions\n",
                "    WHERE database_id = DB_ID(@DatabaseName) AND session_id <> @@SPID;\n",
                "\n",
                "    -- Execute the kill commands\n",
                "    EXEC sp_executesql @KillCommand;\n",
                "\n",
                "    -- Drop the database\n",
                "    SET @Sql = N'DROP DATABASE IF EXISTS [' + @DatabaseName + ']';\n",
                "    EXEC sp_executesql @Sql;\n",
                "END\n",
                "\n",
                "GO\n",
                "\n",
                "/*\n",
                "Anlegen der grundsätzlichen Datenbankobjekte (Datenbank, Schema)\n",
                "*/\n",
                "\n",
                "-- Ausführen der Helper Stored Procedure um die Datenbank zu löschen\n",
                "EXEC usp_DropDatabase 'dwh'\n",
                "\n",
                "CREATE DATABASE dwh COLLATE SQL_Latin1_General_CP1_CI_AS; -- Gleiche Collation wie die ERP Datenbank\n",
                ""
            ],
            "metadata": {
                "language": "sql",
                "azdata_cell_guid": "e3cfccc6-37d4-4302-9002-0c1bfd6e6d75"
            },
            "outputs": [
                {
                    "output_type": "display_data",
                    "data": {
                        "text/html": "Commands completed successfully."
                    },
                    "metadata": {}
                },
                {
                    "output_type": "error",
                    "evalue": "Msg 2714, Level 16, State 3, Procedure usp_DropDatabase, Line 1\nThere is already an object named 'usp_DropDatabase' in the database.",
                    "ename": "",
                    "traceback": []
                },
                {
                    "output_type": "display_data",
                    "data": {
                        "text/html": "Commands completed successfully."
                    },
                    "metadata": {}
                },
                {
                    "output_type": "display_data",
                    "data": {
                        "text/html": "Total execution time: 00:00:01.145"
                    },
                    "metadata": {}
                }
            ],
            "execution_count": 34
        },
        {
            "cell_type": "code",
            "source": [
                "USE DWH;\n",
                "GO\n",
                "CREATE PROCEDURE Transfer_TopSeller\n",
                "(\n",
                "    @SourceDB VARCHAR(50) = 'ERP',\n",
                "    @SourceTable1 VARCHAR(50)= 'Sales.SalesOrderHeader',\n",
                "    @DestinationTable1 VARCHAR(50)= 'Staging_TopSeller.SalesOrderHeader',\n",
                "    @SourceTable2 VARCHAR(50) = 'Sales.SalesOrderDetail',\n",
                "    @DestinationTable2 VARCHAR(50) = 'Staging_TopSeller.SalesOrderDetail',\n",
                "    @SourceTable3 VARCHAR(50) = 'Sales.SalesTerritory',\n",
                "    @DestinationTable3 VARCHAR(50) = 'Staging_TopSeller.SalesTerritory',\n",
                "    @DestinationDB VARCHAR(50) = 'DWH'\n",
                ")\n",
                "AS\n",
                "BEGIN\n",
                "    DECLARE @SQL NVARCHAR(MAX);\n",
                "    DECLARE @FullyQualifiedDestinationTable NVARCHAR(128);\n",
                "\n",
                "    BEGIN TRY\n",
                "        -- Erste Tabelle kopieren\n",
                "        SET @FullyQualifiedDestinationTable = @DestinationDB + '.' + @DestinationTable1;\n",
                "        IF OBJECT_ID(@FullyQualifiedDestinationTable, 'U') IS NOT NULL\n",
                "        BEGIN\n",
                "            SET @SQL = 'DROP TABLE ' + @FullyQualifiedDestinationTable;\n",
                "            EXEC sp_executesql @SQL;\n",
                "        END\n",
                "        SET @SQL = 'SELECT * INTO ' + @FullyQualifiedDestinationTable + ' FROM ' + @SourceDB + '.' + @SourceTable1;\n",
                "        EXEC sp_executesql @SQL;\n",
                "\n",
                "        -- Zweite Tabelle kopieren\n",
                "        SET @FullyQualifiedDestinationTable = @DestinationDB + '.' + @DestinationTable2;\n",
                "        IF OBJECT_ID(@FullyQualifiedDestinationTable, 'U') IS NOT NULL\n",
                "        BEGIN\n",
                "            SET @SQL = 'DROP TABLE ' + @FullyQualifiedDestinationTable;\n",
                "            EXEC sp_executesql @SQL;\n",
                "        END\n",
                "        SET @SQL = 'SELECT * INTO ' + @FullyQualifiedDestinationTable + ' FROM ' + @SourceDB + '.' + @SourceTable2;\n",
                "        EXEC sp_executesql @SQL;\n",
                "\n",
                "        -- Dritte Tabelle kopieren\n",
                "        SET @FullyQualifiedDestinationTable = @DestinationDB + '.' + @DestinationTable3;\n",
                "        IF OBJECT_ID(@FullyQualifiedDestinationTable, 'U') IS NOT NULL\n",
                "        BEGIN\n",
                "            SET @SQL = 'DROP TABLE ' + @FullyQualifiedDestinationTable;\n",
                "            EXEC sp_executesql @SQL;\n",
                "        END\n",
                "        SET @SQL = 'SELECT * INTO ' + @FullyQualifiedDestinationTable + ' FROM ' + @SourceDB + '.' + @SourceTable3;\n",
                "        EXEC sp_executesql @SQL;\n",
                "    END TRY\n",
                "    BEGIN CATCH\n",
                "        PRINT 'Ein Fehler ist aufgetreten: ' + ERROR_MESSAGE();\n",
                "        THROW;\n",
                "    END CATCH\n",
                "END;\n",
                "GO\n",
                ""
            ],
            "metadata": {
                "language": "sql",
                "azdata_cell_guid": "8a983b60-fdd1-4e6f-8205-1d02687eb691"
            },
            "outputs": [
                {
                    "output_type": "display_data",
                    "data": {
                        "text/html": "Commands completed successfully."
                    },
                    "metadata": {}
                },
                {
                    "output_type": "display_data",
                    "data": {
                        "text/html": "Commands completed successfully."
                    },
                    "metadata": {}
                },
                {
                    "output_type": "display_data",
                    "data": {
                        "text/html": "Total execution time: 00:00:00.140"
                    },
                    "metadata": {}
                }
            ],
            "execution_count": 35
        },
        {
            "cell_type": "code",
            "source": [
                "USE DWH;\n",
                "GO\n",
                "CREATE PROCEDURE Transfer_SalesGrowth\n",
                "(\n",
                "    @SourceDB VARCHAR(50) = 'ERP',\n",
                "    @SourceTable1 VARCHAR(50) = 'Sales.SalesOrderHeader',\n",
                "    @DestinationTable1 VARCHAR(50) = 'Staging_SalesGrowth.SalesOrderHeader',\n",
                "    @SourceTable2 VARCHAR(50) = 'Sales.SalesOrderDetail',\n",
                "    @DestinationTable2 VARCHAR(50) = 'Staging_SalesGrowth.SalesOrderDetail',\n",
                "    @SourceTable3 VARCHAR(50) = 'Production.Product',\n",
                "    @DestinationTable3 VARCHAR(50) = 'Staging_SalesGrowth.Product',\n",
                "    @DestinationDB VARCHAR(50) = 'DWH'\n",
                ")\n",
                "AS\n",
                "BEGIN\n",
                "    DECLARE @SQL NVARCHAR(MAX);\n",
                "    DECLARE @FullyQualifiedDestinationTable NVARCHAR(128);\n",
                "\n",
                "    BEGIN TRY\n",
                "        -- Erste Tabelle kopieren\n",
                "        SET @FullyQualifiedDestinationTable = @DestinationDB + '.' + @DestinationTable1;\n",
                "        IF OBJECT_ID(@FullyQualifiedDestinationTable, 'U') IS NOT NULL\n",
                "        BEGIN\n",
                "            SET @SQL = 'DROP TABLE ' + @FullyQualifiedDestinationTable;\n",
                "            EXEC sp_executesql @SQL;\n",
                "        END\n",
                "        SET @SQL = 'SELECT * INTO ' + @FullyQualifiedDestinationTable + ' FROM ' + @SourceDB + '.' + @SourceTable1;\n",
                "        EXEC sp_executesql @SQL;\n",
                "\n",
                "        -- Zweite Tabelle kopieren\n",
                "        SET @FullyQualifiedDestinationTable = @DestinationDB + '.' + @DestinationTable2;\n",
                "        IF OBJECT_ID(@FullyQualifiedDestinationTable, 'U') IS NOT NULL\n",
                "        BEGIN\n",
                "            SET @SQL = 'DROP TABLE ' + @FullyQualifiedDestinationTable;\n",
                "            EXEC sp_executesql @SQL;\n",
                "        END\n",
                "        SET @SQL = 'SELECT * INTO ' + @FullyQualifiedDestinationTable + ' FROM ' + @SourceDB + '.' + @SourceTable2;\n",
                "        EXEC sp_executesql @SQL;\n",
                "\n",
                "        -- Dritte Tabelle kopieren\n",
                "        SET @FullyQualifiedDestinationTable = @DestinationDB + '.' + @DestinationTable3;\n",
                "        IF OBJECT_ID(@FullyQualifiedDestinationTable, 'U') IS NOT NULL\n",
                "        BEGIN\n",
                "            SET @SQL = 'DROP TABLE ' + @FullyQualifiedDestinationTable;\n",
                "            EXEC sp_executesql @SQL;\n",
                "        END\n",
                "        SET @SQL = 'SELECT * INTO ' + @FullyQualifiedDestinationTable + ' FROM ' + @SourceDB + '.' + @SourceTable3;\n",
                "        EXEC sp_executesql @SQL;\n",
                "    END TRY\n",
                "    BEGIN CATCH\n",
                "        PRINT 'Ein Fehler ist aufgetreten: ' + ERROR_MESSAGE();\n",
                "        THROW;\n",
                "    END CATCH\n",
                "END;\n",
                ""
            ],
            "metadata": {
                "language": "sql",
                "azdata_cell_guid": "f980f069-ff95-47a9-9534-be9567277908"
            },
            "outputs": [
                {
                    "output_type": "display_data",
                    "data": {
                        "text/html": "Commands completed successfully."
                    },
                    "metadata": {}
                },
                {
                    "output_type": "display_data",
                    "data": {
                        "text/html": "Commands completed successfully."
                    },
                    "metadata": {}
                },
                {
                    "output_type": "display_data",
                    "data": {
                        "text/html": "Total execution time: 00:00:00.131"
                    },
                    "metadata": {}
                }
            ],
            "execution_count": 36
        },
        {
            "cell_type": "code",
            "source": [
                "USE DWH;\n",
                "GO\n",
                "\n",
                "CREATE PROCEDURE ETL_TopSeller_ProductID\n",
                "AS\n",
                "BEGIN\n",
                "    SET NOCOUNT ON;\n",
                "\n",
                "    DECLARE @TableToCreate NVARCHAR(128) = 'DWH.DWH_SalesGrowth.Dim_ProductID';\n",
                "    DECLARE @SQL NVARCHAR(MAX);\n",
                "\n",
                "    BEGIN TRY\n",
                "\n",
                "    IF OBJECT_ID(@TableToCreate, 'U') IS NOT NULL\n",
                "    BEGIN\n",
                "        SET @SQL = 'DROP TABLE ' + @TableToCreate;\n",
                "        EXEC sp_executesql @SQL;\n",
                "    END\n",
                "\n",
                "    SET @SQL = 'CREATE TABLE ' + @TableToCreate + ' (\n",
                "        ProductID INT PRIMARY KEY,\n",
                "        Produktname VARCHAR(MAX)\n",
                "    )';\n",
                "    EXEC sp_executesql @SQL;\n",
                "\n",
                "-- Define the SELECT DISTINCT AND THE COLUMNS we want to select\n",
                "    SET @SQL = 'INSERT INTO ' + @TableToCreate + ' (ProductID, Produktname)\n",
                "    SELECT DISTINCT pr.ProductID, \n",
                "pr.Name as Produktname\n",
                "FROM  \n",
                "    Staging_SalesGrowth.SalesOrderHeader sh  \n",
                "LEFT OUTER JOIN  \n",
                "    Staging_SalesGrowth.SalesOrderDetail sd ON sh.SalesOrderID = sd.SalesOrderID \n",
                "LEFT OUTER JOIN  \n",
                "    Staging_SalesGrowth.Product pr ON sd.ProductID = pr.ProductID';\n",
                "    EXEC sp_executesql @SQL;\n",
                "\n",
                "    END TRY\n",
                "    BEGIN CATCH\n",
                "        PRINT 'Ein Fehler ist aufgetreten: ' + ERROR_MESSAGE();\n",
                "        THROW;\n",
                "    END CATCH\n",
                "END;\n",
                "GO"
            ],
            "metadata": {
                "language": "sql",
                "azdata_cell_guid": "aa24a3e9-ec60-4ec4-9b98-818dc3982ea5"
            },
            "outputs": [
                {
                    "output_type": "display_data",
                    "data": {
                        "text/html": "Commands completed successfully."
                    },
                    "metadata": {}
                },
                {
                    "output_type": "display_data",
                    "data": {
                        "text/html": "Commands completed successfully."
                    },
                    "metadata": {}
                },
                {
                    "output_type": "display_data",
                    "data": {
                        "text/html": "Total execution time: 00:00:00.117"
                    },
                    "metadata": {}
                }
            ],
            "execution_count": 37
        },
        {
            "cell_type": "code",
            "source": [
                "USE DWH;\n",
                "GO\n",
                "\n",
                "CREATE PROCEDURE \"ETL_TerritorySales_TerritoryID\"\n",
                "AS\n",
                "BEGIN\n",
                "    SET NOCOUNT ON;\n",
                "\n",
                "    DECLARE @TableToCreate NVARCHAR(128) = 'DWH.DWH_TopSeller.Dim_TerritoryID';\n",
                "    DECLARE @SQL NVARCHAR(MAX);\n",
                "\n",
                "    BEGIN TRY\n",
                "\n",
                "    IF OBJECT_ID(@TableToCreate, 'U') IS NOT NULL\n",
                "    BEGIN\n",
                "        SET @SQL = 'DROP TABLE ' + @TableToCreate;\n",
                "        EXEC sp_executesql @SQL;\n",
                "    END\n",
                "\n",
                "    SET @SQL = 'CREATE TABLE ' + @TableToCreate + ' (\n",
                "        territoryID INT PRIMARY KEY,\n",
                "        Territory VARCHAR(MAX)\n",
                "    )';\n",
                "    EXEC sp_executesql @SQL;\n",
                "\n",
                "    SET @SQL = 'INSERT INTO ' + @TableToCreate + ' (territoryID, Territory)\n",
                "    SELECT DISTINCT sap.territoryID, \n",
                "st.Name as Territory\n",
                "from Staging_TopSeller.SalesPerson sap \n",
                "left outer join Staging_TopSeller.SalesTerritory st on st.territoryID = sap.TerritoryID\n",
                "WHERE sap.territoryID IS NOT NULL';\n",
                "    EXEC sp_executesql @SQL;\n",
                "    END TRY\n",
                "    BEGIN CATCH\n",
                "        PRINT 'Ein Fehler ist aufgetreten: ' + ERROR_MESSAGE();\n",
                "        THROW;\n",
                "    END CATCH\n",
                "END;\n",
                "GO"
            ],
            "metadata": {
                "language": "sql",
                "azdata_cell_guid": "d692102f-2442-49af-a529-6c8461c2ec84"
            },
            "outputs": [],
            "execution_count": null
        },
        {
            "cell_type": "code",
            "source": [
                "CREATE SCHEMA Staging_TopSeller"
            ],
            "metadata": {
                "language": "sql",
                "azdata_cell_guid": "0a7c676f-16df-44a3-8109-80b25282a0ea"
            },
            "outputs": [
                {
                    "output_type": "display_data",
                    "data": {
                        "text/html": "Commands completed successfully."
                    },
                    "metadata": {}
                },
                {
                    "output_type": "display_data",
                    "data": {
                        "text/html": "Total execution time: 00:00:00.051"
                    },
                    "metadata": {}
                }
            ],
            "execution_count": 38
        },
        {
            "cell_type": "code",
            "source": [
                "CREATE SCHEMA Staging_SalesGrowth"
            ],
            "metadata": {
                "language": "sql",
                "azdata_cell_guid": "c7b44533-b347-4fa6-bf4f-0f70dd8f66c7"
            },
            "outputs": [
                {
                    "output_type": "display_data",
                    "data": {
                        "text/html": "Commands completed successfully."
                    },
                    "metadata": {}
                },
                {
                    "output_type": "display_data",
                    "data": {
                        "text/html": "Total execution time: 00:00:00.084"
                    },
                    "metadata": {}
                }
            ],
            "execution_count": 39
        },
        {
            "cell_type": "code",
            "source": [
                "CREATE SCHEMA DWH_SalesGrowth"
            ],
            "metadata": {
                "language": "sql",
                "azdata_cell_guid": "083e086f-31a8-4e6d-8478-68d5c6ddf4ed"
            },
            "outputs": [
                {
                    "output_type": "display_data",
                    "data": {
                        "text/html": "Commands completed successfully."
                    },
                    "metadata": {}
                },
                {
                    "output_type": "display_data",
                    "data": {
                        "text/html": "Total execution time: 00:00:00.055"
                    },
                    "metadata": {}
                }
            ],
            "execution_count": 40
        },
        {
            "cell_type": "code",
            "source": [
                "CREATE SCHEMA DWH_TopSeller"
            ],
            "metadata": {
                "language": "sql",
                "azdata_cell_guid": "e0e9c8e0-5d4c-48e2-8e0e-7bb8ef2de186"
            },
            "outputs": [
                {
                    "output_type": "display_data",
                    "data": {
                        "text/html": "Commands completed successfully."
                    },
                    "metadata": {}
                },
                {
                    "output_type": "display_data",
                    "data": {
                        "text/html": "Total execution time: 00:00:00.050"
                    },
                    "metadata": {}
                }
            ],
            "execution_count": 41
        },
        {
            "cell_type": "code",
            "source": [
                "EXEC Transfer_TopSeller;\n",
                "EXEC Transfer_SalesGrowth\n",
                "EXEC ETL_TopSeller_ProductID"
            ],
            "metadata": {
                "language": "sql",
                "azdata_cell_guid": "25ba3c81-6bb6-4dd6-a550-8ed10bc26657"
            },
            "outputs": [
                {
                    "output_type": "display_data",
                    "data": {
                        "text/html": "(31465 rows affected)"
                    },
                    "metadata": {}
                },
                {
                    "output_type": "display_data",
                    "data": {
                        "text/html": "(121317 rows affected)"
                    },
                    "metadata": {}
                },
                {
                    "output_type": "display_data",
                    "data": {
                        "text/html": "(31465 rows affected)"
                    },
                    "metadata": {}
                },
                {
                    "output_type": "display_data",
                    "data": {
                        "text/html": "(121317 rows affected)"
                    },
                    "metadata": {}
                },
                {
                    "output_type": "display_data",
                    "data": {
                        "text/html": "(504 rows affected)"
                    },
                    "metadata": {}
                },
                {
                    "output_type": "display_data",
                    "data": {
                        "text/html": "Total execution time: 00:00:02.021"
                    },
                    "metadata": {}
                }
            ],
            "execution_count": 42
        }
    ]
}